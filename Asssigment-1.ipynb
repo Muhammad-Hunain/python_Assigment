{
 "cells": [
  {
   "cell_type": "code",
   "execution_count": 22,
   "id": "4acfb363",
   "metadata": {},
   "outputs": [
    {
     "name": "stdout",
     "output_type": "stream",
     "text": [
      "Twinkle,twinkle,little star,\n",
      "         How I wonder What you are!\n",
      "         up above the world so high\n",
      "like a daimond in the sky\n",
      "Twinkle,twinkle,little star,\n",
      "         How I wonder What you are! \n"
     ]
    }
   ],
   "source": [
    "print(\"Twinkle,twinkle,little star,\\n         How I wonder What you are!\\n         up above the world so high\\nlike a daimond in the sky\\nTwinkle,twinkle,little star,\\n         How I wonder What you are! \");\n"
   ]
  },
  {
   "cell_type": "code",
   "execution_count": 63,
   "id": "b2be8726",
   "metadata": {},
   "outputs": [
    {
     "name": "stdout",
     "output_type": "stream",
     "text": [
      "3.9.7 (default, Sep 16 2021, 16:59:28) [MSC v.1916 64 bit (AMD64)]\n"
     ]
    }
   ],
   "source": [
    "import sys\n",
    "version = sys.version\n",
    "print(version)"
   ]
  },
  {
   "cell_type": "code",
   "execution_count": 64,
   "id": "3f3df57a",
   "metadata": {},
   "outputs": [
    {
     "name": "stdout",
     "output_type": "stream",
     "text": [
      "2021-12-31 23:01:49.080060\n"
     ]
    }
   ],
   "source": [
    "from datetime import datetime\n",
    "now = datetime.now()\n",
    "print(now)"
   ]
  },
  {
   "cell_type": "code",
   "execution_count": 61,
   "id": "a0e94cc0",
   "metadata": {},
   "outputs": [
    {
     "name": "stdout",
     "output_type": "stream",
     "text": [
      "5\n",
      "78.55\n"
     ]
    }
   ],
   "source": [
    "Radius = input(\"Entert The radius\");\n",
    "convertRadius = int(Radius)\n",
    "Pie = 3.142;\n",
    "area_of_circle = Pie*(convertRadius * convertRadius);\n",
    "print(area_of_circle)\n"
   ]
  },
  {
   "cell_type": "code",
   "execution_count": 62,
   "id": "a9bba676",
   "metadata": {},
   "outputs": [
    {
     "name": "stdout",
     "output_type": "stream",
     "text": [
      "Enter the Number one25\n",
      "Enter the Number two35\n",
      "60\n"
     ]
    }
   ],
   "source": [
    "val1  = input(\"Enter the Number one\")\n",
    "convertval1 = int(val1)\n",
    "val2  = input(\"Enter the Number two\")\n",
    "convertval2 = int(val2)\n",
    "\n",
    "print(convertval1 + convertval2)"
   ]
  },
  {
   "cell_type": "code",
   "execution_count": 91,
   "id": "f771e691",
   "metadata": {},
   "outputs": [
    {
     "name": "stdout",
     "output_type": "stream",
     "text": [
      "Enter First NameHunain \n",
      "Enter Last NameMemon\n",
      " nianuH nomeM\n"
     ]
    }
   ],
   "source": [
    "fName = input(\"Enter First Name\")\n",
    "lName = input(\"Enter Last Name\")\n",
    "txt = fName[::-1] + \" \" +lName[::-1];\n",
    "print(txt)\n"
   ]
  }
 ],
 "metadata": {
  "kernelspec": {
   "display_name": "Python 3 (ipykernel)",
   "language": "python",
   "name": "python3"
  },
  "language_info": {
   "codemirror_mode": {
    "name": "ipython",
    "version": 3
   },
   "file_extension": ".py",
   "mimetype": "text/x-python",
   "name": "python",
   "nbconvert_exporter": "python",
   "pygments_lexer": "ipython3",
   "version": "3.9.7"
  }
 },
 "nbformat": 4,
 "nbformat_minor": 5
}
